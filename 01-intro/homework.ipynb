{
 "cells": [
  {
   "cell_type": "code",
   "execution_count": 5,
   "id": "31cb1f98-3d6e-4991-8579-8ba39abc80da",
   "metadata": {},
   "outputs": [],
   "source": [
    "import json\n",
    "import requests"
   ]
  },
  {
   "cell_type": "markdown",
   "id": "70cf57f1-99b3-4ffc-ad81-7dc885eccab4",
   "metadata": {},
   "source": [
    "# Q1"
   ]
  },
  {
   "cell_type": "code",
   "execution_count": 11,
   "id": "6872768f-d915-4bdf-9b4e-55985a928b0e",
   "metadata": {},
   "outputs": [
    {
     "data": {
      "text/plain": [
       "'dbcbbbd0bc4924cfeb28929dc05d82d662c527b7'"
      ]
     },
     "execution_count": 11,
     "metadata": {},
     "output_type": "execute_result"
    }
   ],
   "source": [
    "resp = requests.get(\"http://localhost:9200\")\n",
    "elastic_config = resp.json()\n",
    "elastic_config['version']['build_hash']"
   ]
  },
  {
   "cell_type": "markdown",
   "id": "55a0c4ac-4835-46bd-880c-ce28456148d7",
   "metadata": {},
   "source": [
    "# Q2"
   ]
  },
  {
   "cell_type": "code",
   "execution_count": 12,
   "id": "7088de54-f203-4abf-b4f9-981ad9a62870",
   "metadata": {},
   "outputs": [],
   "source": [
    "import requests \n",
    "\n",
    "docs_url = 'https://github.com/DataTalksClub/llm-zoomcamp/blob/main/01-intro/documents.json?raw=1'\n",
    "docs_response = requests.get(docs_url)\n",
    "documents_raw = docs_response.json()\n",
    "\n",
    "documents = []\n",
    "\n",
    "for course in documents_raw:\n",
    "    course_name = course['course']\n",
    "\n",
    "    for doc in course['documents']:\n",
    "        doc['course'] = course_name\n",
    "        documents.append(doc)"
   ]
  },
  {
   "cell_type": "code",
   "execution_count": 13,
   "id": "42cd8c26-3e7a-4d0d-b053-96c99f46e5af",
   "metadata": {},
   "outputs": [
    {
     "data": {
      "text/plain": [
       "{'text': \"The purpose of this document is to capture frequently asked technical questions\\nThe exact day and hour of the course will be 15th Jan 2024 at 17h00. The course will start with the first  “Office Hours'' live.1\\nSubscribe to course public Google Calendar (it works from Desktop only).\\nRegister before the course starts using this link.\\nJoin the course Telegram channel with announcements.\\nDon’t forget to register in DataTalks.Club's Slack and join the channel.\",\n",
       " 'section': 'General course-related questions',\n",
       " 'question': 'Course - When will the course start?',\n",
       " 'course': 'data-engineering-zoomcamp'}"
      ]
     },
     "execution_count": 13,
     "metadata": {},
     "output_type": "execute_result"
    }
   ],
   "source": [
    "documents[0]"
   ]
  },
  {
   "cell_type": "code",
   "execution_count": 14,
   "id": "ae25ce13-b050-4ec4-8058-5b1ae511f751",
   "metadata": {},
   "outputs": [],
   "source": [
    "from elasticsearch import Elasticsearch\n",
    "es_client = Elasticsearch('http://localhost:9200') "
   ]
  },
  {
   "cell_type": "code",
   "execution_count": 15,
   "id": "e8e6a4a8-29fd-42f5-ba54-21f48161c662",
   "metadata": {},
   "outputs": [
    {
     "ename": "BadRequestError",
     "evalue": "BadRequestError(400, 'resource_already_exists_exception', 'index [course-questions/y0JDvRiYQ0-CuXDc4GSOgQ] already exists')",
     "output_type": "error",
     "traceback": [
      "\u001b[31m---------------------------------------------------------------------------\u001b[39m",
      "\u001b[31mBadRequestError\u001b[39m                           Traceback (most recent call last)",
      "\u001b[36mCell\u001b[39m\u001b[36m \u001b[39m\u001b[32mIn[15]\u001b[39m\u001b[32m, line 18\u001b[39m\n\u001b[32m      1\u001b[39m index_settings = {\n\u001b[32m      2\u001b[39m     \u001b[33m\"\u001b[39m\u001b[33msettings\u001b[39m\u001b[33m\"\u001b[39m: {\n\u001b[32m      3\u001b[39m         \u001b[33m\"\u001b[39m\u001b[33mnumber_of_shards\u001b[39m\u001b[33m\"\u001b[39m: \u001b[32m1\u001b[39m,\n\u001b[32m   (...)\u001b[39m\u001b[32m     13\u001b[39m     }\n\u001b[32m     14\u001b[39m }\n\u001b[32m     16\u001b[39m index_name = \u001b[33m\"\u001b[39m\u001b[33mcourse-questions\u001b[39m\u001b[33m\"\u001b[39m\n\u001b[32m---> \u001b[39m\u001b[32m18\u001b[39m \u001b[43mes_client\u001b[49m\u001b[43m.\u001b[49m\u001b[43mindices\u001b[49m\u001b[43m.\u001b[49m\u001b[43mcreate\u001b[49m\u001b[43m(\u001b[49m\u001b[43mindex\u001b[49m\u001b[43m=\u001b[49m\u001b[43mindex_name\u001b[49m\u001b[43m,\u001b[49m\u001b[43m \u001b[49m\u001b[43mbody\u001b[49m\u001b[43m=\u001b[49m\u001b[43mindex_settings\u001b[49m\u001b[43m)\u001b[49m\n",
      "\u001b[36mFile \u001b[39m\u001b[32m~/Courses/LLMzoomcamp/venv/lib/python3.11/site-packages/elasticsearch/_sync/client/utils.py:402\u001b[39m, in \u001b[36m_rewrite_parameters.<locals>.wrapper.<locals>.wrapped\u001b[39m\u001b[34m(*args, **kwargs)\u001b[39m\n\u001b[32m    399\u001b[39m         \u001b[38;5;28;01mexcept\u001b[39;00m \u001b[38;5;167;01mKeyError\u001b[39;00m:\n\u001b[32m    400\u001b[39m             \u001b[38;5;28;01mpass\u001b[39;00m\n\u001b[32m--> \u001b[39m\u001b[32m402\u001b[39m \u001b[38;5;28;01mreturn\u001b[39;00m \u001b[43mapi\u001b[49m\u001b[43m(\u001b[49m\u001b[43m*\u001b[49m\u001b[43margs\u001b[49m\u001b[43m,\u001b[49m\u001b[43m \u001b[49m\u001b[43m*\u001b[49m\u001b[43m*\u001b[49m\u001b[43mkwargs\u001b[49m\u001b[43m)\u001b[49m\n",
      "\u001b[36mFile \u001b[39m\u001b[32m~/Courses/LLMzoomcamp/venv/lib/python3.11/site-packages/elasticsearch/_sync/client/indices.py:493\u001b[39m, in \u001b[36mIndicesClient.create\u001b[39m\u001b[34m(self, index, aliases, error_trace, filter_path, human, mappings, master_timeout, pretty, settings, timeout, wait_for_active_shards)\u001b[39m\n\u001b[32m    491\u001b[39m \u001b[38;5;28;01mif\u001b[39;00m __body \u001b[38;5;129;01mis\u001b[39;00m \u001b[38;5;129;01mnot\u001b[39;00m \u001b[38;5;28;01mNone\u001b[39;00m:\n\u001b[32m    492\u001b[39m     __headers[\u001b[33m\"\u001b[39m\u001b[33mcontent-type\u001b[39m\u001b[33m\"\u001b[39m] = \u001b[33m\"\u001b[39m\u001b[33mapplication/json\u001b[39m\u001b[33m\"\u001b[39m\n\u001b[32m--> \u001b[39m\u001b[32m493\u001b[39m \u001b[38;5;28;01mreturn\u001b[39;00m \u001b[38;5;28;43mself\u001b[39;49m\u001b[43m.\u001b[49m\u001b[43mperform_request\u001b[49m\u001b[43m(\u001b[49m\u001b[43m  \u001b[49m\u001b[38;5;66;43;03m# type: ignore[return-value]\u001b[39;49;00m\n\u001b[32m    494\u001b[39m \u001b[43m    \u001b[49m\u001b[33;43m\"\u001b[39;49m\u001b[33;43mPUT\u001b[39;49m\u001b[33;43m\"\u001b[39;49m\u001b[43m,\u001b[49m\u001b[43m \u001b[49m\u001b[43m__path\u001b[49m\u001b[43m,\u001b[49m\u001b[43m \u001b[49m\u001b[43mparams\u001b[49m\u001b[43m=\u001b[49m\u001b[43m__query\u001b[49m\u001b[43m,\u001b[49m\u001b[43m \u001b[49m\u001b[43mheaders\u001b[49m\u001b[43m=\u001b[49m\u001b[43m__headers\u001b[49m\u001b[43m,\u001b[49m\u001b[43m \u001b[49m\u001b[43mbody\u001b[49m\u001b[43m=\u001b[49m\u001b[43m__body\u001b[49m\n\u001b[32m    495\u001b[39m \u001b[43m\u001b[49m\u001b[43m)\u001b[49m\n",
      "\u001b[36mFile \u001b[39m\u001b[32m~/Courses/LLMzoomcamp/venv/lib/python3.11/site-packages/elasticsearch/_sync/client/_base.py:389\u001b[39m, in \u001b[36mNamespacedClient.perform_request\u001b[39m\u001b[34m(self, method, path, params, headers, body)\u001b[39m\n\u001b[32m    378\u001b[39m \u001b[38;5;28;01mdef\u001b[39;00m\u001b[38;5;250m \u001b[39m\u001b[34mperform_request\u001b[39m(\n\u001b[32m    379\u001b[39m     \u001b[38;5;28mself\u001b[39m,\n\u001b[32m    380\u001b[39m     method: \u001b[38;5;28mstr\u001b[39m,\n\u001b[32m   (...)\u001b[39m\u001b[32m    387\u001b[39m     \u001b[38;5;66;03m# Use the internal clients .perform_request() implementation\u001b[39;00m\n\u001b[32m    388\u001b[39m     \u001b[38;5;66;03m# so we take advantage of their transport options.\u001b[39;00m\n\u001b[32m--> \u001b[39m\u001b[32m389\u001b[39m     \u001b[38;5;28;01mreturn\u001b[39;00m \u001b[38;5;28;43mself\u001b[39;49m\u001b[43m.\u001b[49m\u001b[43m_client\u001b[49m\u001b[43m.\u001b[49m\u001b[43mperform_request\u001b[49m\u001b[43m(\u001b[49m\n\u001b[32m    390\u001b[39m \u001b[43m        \u001b[49m\u001b[43mmethod\u001b[49m\u001b[43m,\u001b[49m\u001b[43m \u001b[49m\u001b[43mpath\u001b[49m\u001b[43m,\u001b[49m\u001b[43m \u001b[49m\u001b[43mparams\u001b[49m\u001b[43m=\u001b[49m\u001b[43mparams\u001b[49m\u001b[43m,\u001b[49m\u001b[43m \u001b[49m\u001b[43mheaders\u001b[49m\u001b[43m=\u001b[49m\u001b[43mheaders\u001b[49m\u001b[43m,\u001b[49m\u001b[43m \u001b[49m\u001b[43mbody\u001b[49m\u001b[43m=\u001b[49m\u001b[43mbody\u001b[49m\n\u001b[32m    391\u001b[39m \u001b[43m    \u001b[49m\u001b[43m)\u001b[49m\n",
      "\u001b[36mFile \u001b[39m\u001b[32m~/Courses/LLMzoomcamp/venv/lib/python3.11/site-packages/elasticsearch/_sync/client/_base.py:320\u001b[39m, in \u001b[36mBaseClient.perform_request\u001b[39m\u001b[34m(self, method, path, params, headers, body)\u001b[39m\n\u001b[32m    317\u001b[39m         \u001b[38;5;28;01mexcept\u001b[39;00m (\u001b[38;5;167;01mValueError\u001b[39;00m, \u001b[38;5;167;01mKeyError\u001b[39;00m, \u001b[38;5;167;01mTypeError\u001b[39;00m):\n\u001b[32m    318\u001b[39m             \u001b[38;5;28;01mpass\u001b[39;00m\n\u001b[32m--> \u001b[39m\u001b[32m320\u001b[39m     \u001b[38;5;28;01mraise\u001b[39;00m HTTP_EXCEPTIONS.get(meta.status, ApiError)(\n\u001b[32m    321\u001b[39m         message=message, meta=meta, body=resp_body\n\u001b[32m    322\u001b[39m     )\n\u001b[32m    324\u001b[39m \u001b[38;5;66;03m# 'X-Elastic-Product: Elasticsearch' should be on every 2XX response.\u001b[39;00m\n\u001b[32m    325\u001b[39m \u001b[38;5;28;01mif\u001b[39;00m \u001b[38;5;129;01mnot\u001b[39;00m \u001b[38;5;28mself\u001b[39m._verified_elasticsearch:\n\u001b[32m    326\u001b[39m     \u001b[38;5;66;03m# If the header is set we mark the server as verified.\u001b[39;00m\n",
      "\u001b[31mBadRequestError\u001b[39m: BadRequestError(400, 'resource_already_exists_exception', 'index [course-questions/y0JDvRiYQ0-CuXDc4GSOgQ] already exists')"
     ]
    }
   ],
   "source": [
    "index_settings = {\n",
    "    \"settings\": {\n",
    "        \"number_of_shards\": 1,\n",
    "        \"number_of_replicas\": 0\n",
    "    },\n",
    "    \"mappings\": {\n",
    "        \"properties\": {\n",
    "            \"text\": {\"type\": \"text\"},\n",
    "            \"section\": {\"type\": \"text\"},\n",
    "            \"question\": {\"type\": \"text\"},\n",
    "            \"course\": {\"type\": \"keyword\"} \n",
    "        }\n",
    "    }\n",
    "}\n",
    "\n",
    "index_name = \"course-questions\"\n",
    "\n",
    "es_client.indices.create(index=index_name, body=index_settings)"
   ]
  },
  {
   "cell_type": "code",
   "execution_count": 19,
   "id": "111640b2-62e8-4dc2-933b-07bf140f900c",
   "metadata": {},
   "outputs": [
    {
     "name": "stderr",
     "output_type": "stream",
     "text": [
      "/Users/vpankrat/Courses/LLMzoomcamp/venv/lib/python3.11/site-packages/tqdm/auto.py:21: TqdmWarning: IProgress not found. Please update jupyter and ipywidgets. See https://ipywidgets.readthedocs.io/en/stable/user_install.html\n",
      "  from .autonotebook import tqdm as notebook_tqdm\n"
     ]
    }
   ],
   "source": [
    "from tqdm.auto import tqdm"
   ]
  },
  {
   "cell_type": "code",
   "execution_count": null,
   "id": "5a0d1a1f-d8a6-4b71-afe4-e4cbdcebf59a",
   "metadata": {},
   "outputs": [],
   "source": [
    "for doc in tqdm(documents):\n",
    "    es_client.index(index=index_name, document=doc)"
   ]
  },
  {
   "cell_type": "markdown",
   "id": "61fa3a23-f19f-4136-b05c-9a44064cf464",
   "metadata": {},
   "source": [
    "# Q3"
   ]
  },
  {
   "cell_type": "code",
   "execution_count": 20,
   "id": "3d1623fa-2207-415d-b662-2aa77bb84828",
   "metadata": {},
   "outputs": [],
   "source": [
    "query = \"How do execute a command on a Kubernetes pod?\""
   ]
  },
  {
   "cell_type": "code",
   "execution_count": 21,
   "id": "6079ddf9-2784-495f-b95c-f3694f46b274",
   "metadata": {},
   "outputs": [],
   "source": [
    "def elastic_max_score(query):\n",
    "    search_query = {\n",
    "        \"size\": 1,\n",
    "        \"query\": {\n",
    "            \"bool\": {\n",
    "                \"must\": { # text matching\n",
    "                    \"multi_match\": {\n",
    "                        \"query\": query,\n",
    "                        \"fields\": [\"question^4\", \"text\", \"section\"], # question is 3 times more important than other fields\n",
    "                        \"type\": \"best_fields\"\n",
    "                    }\n",
    "                },\n",
    "            }\n",
    "        }\n",
    "    }\n",
    "\n",
    "    response = es_client.search(index=index_name, body=search_query)\n",
    "    print(response['hits']['max_score'])"
   ]
  },
  {
   "cell_type": "code",
   "execution_count": 22,
   "id": "66d4892c-b5a5-4a6f-b2b6-6f24f3093487",
   "metadata": {},
   "outputs": [
    {
     "name": "stdout",
     "output_type": "stream",
     "text": [
      "44.50556\n"
     ]
    }
   ],
   "source": [
    "elastic_max_score(query)"
   ]
  },
  {
   "cell_type": "markdown",
   "id": "5adef017-204e-4d37-9390-1e50ecc730a1",
   "metadata": {},
   "source": [
    "# Q4"
   ]
  },
  {
   "cell_type": "code",
   "execution_count": 24,
   "id": "1807ff4d-458c-4741-a13d-9ffa115af21e",
   "metadata": {},
   "outputs": [],
   "source": [
    "query = \"How do copy a file to a Docker container?\""
   ]
  },
  {
   "cell_type": "code",
   "execution_count": 25,
   "id": "afec24f9-63a5-479c-90d1-3fc338b78cee",
   "metadata": {},
   "outputs": [],
   "source": [
    "def elastic_search(query):\n",
    "    search_query = {\n",
    "        \"size\": 3,\n",
    "        \"query\": {\n",
    "            \"bool\": {\n",
    "                \"must\": { # text matching\n",
    "                    \"multi_match\": {\n",
    "                        \"query\": query,\n",
    "                        \"fields\": [\"question^3\", \"text\", \"section\"], # question is 3 times more important than other fields\n",
    "                        \"type\": \"best_fields\"\n",
    "                    }\n",
    "                },\n",
    "                \"filter\": { # filtering component\n",
    "                    \"term\": {\n",
    "                        \"course\": \"machine-learning-zoomcamp\"\n",
    "                    }\n",
    "                }\n",
    "            }\n",
    "        }\n",
    "    }\n",
    "\n",
    "    response = es_client.search(index=index_name, body=search_query)\n",
    "    \n",
    "    result_docs = []\n",
    "    \n",
    "    for hit in response['hits']['hits']:\n",
    "        result_docs.append(hit['_source'])\n",
    "    \n",
    "    return result_docs"
   ]
  },
  {
   "cell_type": "code",
   "execution_count": 26,
   "id": "81e93e90-c322-4ed8-b9c5-74b75e227f06",
   "metadata": {},
   "outputs": [
    {
     "data": {
      "text/plain": [
       "'How do I copy files from a different folder into docker container’s working directory?'"
      ]
     },
     "execution_count": 26,
     "metadata": {},
     "output_type": "execute_result"
    }
   ],
   "source": [
    "[el['question'] for el in elastic_search(query)][2]"
   ]
  },
  {
   "cell_type": "markdown",
   "id": "5f18ea86-e667-4e39-acbe-b6332ccc9b11",
   "metadata": {},
   "source": [
    "# Q5"
   ]
  },
  {
   "cell_type": "code",
   "execution_count": 33,
   "id": "8c7fc136-18b1-47bb-80cb-8679d572843b",
   "metadata": {},
   "outputs": [],
   "source": [
    "question = \"How do I execute a command in a running docker container?\""
   ]
  },
  {
   "cell_type": "code",
   "execution_count": 30,
   "id": "6f8bbbc8-7d2a-458b-aba5-ebf4714f9d87",
   "metadata": {},
   "outputs": [
    {
     "name": "stdout",
     "output_type": "stream",
     "text": [
      "[\n",
      "    {\n",
      "        \"text\": \"Launch the container image in interactive mode and overriding the entrypoint, so that it starts a bash command.\\ndocker run -it --entrypoint bash <image>\\nIf the container is already running, execute a command in the specific container:\\ndocker ps (find the container-id)\\ndocker exec -it <container-id> bash\\n(Marcos MJD)\",\n",
      "        \"section\": \"5. Deploying Machine Learning Models\",\n",
      "        \"question\": \"How do I debug a docker container?\",\n",
      "        \"course\": \"machine-learning-zoomcamp\"\n",
      "    },\n",
      "    {\n",
      "        \"text\": \"You can copy files from your local machine into a Docker container using the docker cp command. Here's how to do it:\\nTo copy a file or directory from your local machine into a running Docker container, you can use the `docker cp command`. The basic syntax is as follows:\\ndocker cp /path/to/local/file_or_directory container_id:/path/in/container\\nHrithik Kumar Advani\",\n",
      "        \"section\": \"5. Deploying Machine Learning Models\",\n",
      "        \"question\": \"How do I copy files from my local machine to docker container?\",\n",
      "        \"course\": \"machine-learning-zoomcamp\"\n",
      "    },\n",
      "    {\n",
      "        \"text\": \"You can copy files from your local machine into a Docker container using the docker cp command. Here's how to do it:\\nIn the Dockerfile, you can provide the folder containing the files that you want to copy over. The basic syntax is as follows:\\nCOPY [\\\"src/predict.py\\\", \\\"models/xgb_model.bin\\\", \\\"./\\\"]\\t\\t\\t\\t\\t\\t\\t\\t\\t\\t\\tGopakumar Gopinathan\",\n",
      "        \"section\": \"5. Deploying Machine Learning Models\",\n",
      "        \"question\": \"How do I copy files from a different folder into docker container\\u2019s working directory?\",\n",
      "        \"course\": \"machine-learning-zoomcamp\"\n",
      "    }\n",
      "]\n"
     ]
    }
   ],
   "source": [
    "q4_res = elastic_search(query)\n",
    "print(json.dumps(q4_res, indent=4))"
   ]
  },
  {
   "cell_type": "code",
   "execution_count": 31,
   "id": "c4840937-ef49-4310-ba77-95f90ed5e375",
   "metadata": {},
   "outputs": [],
   "source": [
    "context_template = \"\"\"\n",
    "Q: {question}\n",
    "A: {text}\n",
    "\"\"\".strip()"
   ]
  },
  {
   "cell_type": "code",
   "execution_count": 32,
   "id": "91e74987-e710-48a4-8937-1e0c062a9536",
   "metadata": {},
   "outputs": [
    {
     "name": "stdout",
     "output_type": "stream",
     "text": [
      "Q: How do I debug a docker container?\n",
      "A: Launch the container image in interactive mode and overriding the entrypoint, so that it starts a bash command.\n",
      "docker run -it --entrypoint bash <image>\n",
      "If the container is already running, execute a command in the specific container:\n",
      "docker ps (find the container-id)\n",
      "docker exec -it <container-id> bash\n",
      "(Marcos MJD)\n",
      "\n",
      "Q: How do I copy files from my local machine to docker container?\n",
      "A: You can copy files from your local machine into a Docker container using the docker cp command. Here's how to do it:\n",
      "To copy a file or directory from your local machine into a running Docker container, you can use the `docker cp command`. The basic syntax is as follows:\n",
      "docker cp /path/to/local/file_or_directory container_id:/path/in/container\n",
      "Hrithik Kumar Advani\n",
      "\n",
      "Q: How do I copy files from a different folder into docker container’s working directory?\n",
      "A: You can copy files from your local machine into a Docker container using the docker cp command. Here's how to do it:\n",
      "In the Dockerfile, you can provide the folder containing the files that you want to copy over. The basic syntax is as follows:\n",
      "COPY [\"src/predict.py\", \"models/xgb_model.bin\", \"./\"]\t\t\t\t\t\t\t\t\t\t\tGopakumar Gopinathan\n"
     ]
    }
   ],
   "source": [
    "context_parts = []\n",
    "for el in q4_res:\n",
    "    context_parts.append(context_template.format(**el))\n",
    "context = '\\n\\n'.join(context_parts)\n",
    "print(context)"
   ]
  },
  {
   "cell_type": "code",
   "execution_count": 34,
   "id": "65c048bf-d5dc-46c4-8bd3-3e3a8215ea40",
   "metadata": {},
   "outputs": [],
   "source": [
    "prompt_template = \"\"\"\n",
    "You're a course teaching assistant. Answer the QUESTION based on the CONTEXT from the FAQ database.\n",
    "Use only the facts from the CONTEXT when answering the QUESTION.\n",
    "\n",
    "QUESTION: {question}\n",
    "\n",
    "CONTEXT:\n",
    "{context}\n",
    "\"\"\".strip()"
   ]
  },
  {
   "cell_type": "code",
   "execution_count": 35,
   "id": "3d2eb3a4-b169-440d-9b18-aa8964079324",
   "metadata": {},
   "outputs": [
    {
     "name": "stdout",
     "output_type": "stream",
     "text": [
      "You're a course teaching assistant. Answer the QUESTION based on the CONTEXT from the FAQ database.\n",
      "Use only the facts from the CONTEXT when answering the QUESTION.\n",
      "\n",
      "QUESTION: How do I execute a command in a running docker container?\n",
      "\n",
      "CONTEXT:\n",
      "Q: How do I debug a docker container?\n",
      "A: Launch the container image in interactive mode and overriding the entrypoint, so that it starts a bash command.\n",
      "docker run -it --entrypoint bash <image>\n",
      "If the container is already running, execute a command in the specific container:\n",
      "docker ps (find the container-id)\n",
      "docker exec -it <container-id> bash\n",
      "(Marcos MJD)\n",
      "\n",
      "Q: How do I copy files from my local machine to docker container?\n",
      "A: You can copy files from your local machine into a Docker container using the docker cp command. Here's how to do it:\n",
      "To copy a file or directory from your local machine into a running Docker container, you can use the `docker cp command`. The basic syntax is as follows:\n",
      "docker cp /path/to/local/file_or_directory container_id:/path/in/container\n",
      "Hrithik Kumar Advani\n",
      "\n",
      "Q: How do I copy files from a different folder into docker container’s working directory?\n",
      "A: You can copy files from your local machine into a Docker container using the docker cp command. Here's how to do it:\n",
      "In the Dockerfile, you can provide the folder containing the files that you want to copy over. The basic syntax is as follows:\n",
      "COPY [\"src/predict.py\", \"models/xgb_model.bin\", \"./\"]\t\t\t\t\t\t\t\t\t\t\tGopakumar Gopinathan\n"
     ]
    }
   ],
   "source": [
    "prompt = prompt_template.format(question=question, context=context)\n",
    "print(prompt)"
   ]
  },
  {
   "cell_type": "code",
   "execution_count": 36,
   "id": "8910b89c-a31e-443a-b74f-7f04a6d0b189",
   "metadata": {},
   "outputs": [
    {
     "data": {
      "text/plain": [
       "1462"
      ]
     },
     "execution_count": 36,
     "metadata": {},
     "output_type": "execute_result"
    }
   ],
   "source": [
    "len(prompt)"
   ]
  },
  {
   "cell_type": "markdown",
   "id": "94677288-d8f7-49c5-8571-2d7e110aea42",
   "metadata": {},
   "source": [
    "# Q6"
   ]
  },
  {
   "cell_type": "code",
   "execution_count": 37,
   "id": "e91d97bc-fb88-4146-9465-487ea165c089",
   "metadata": {},
   "outputs": [
    {
     "name": "stdout",
     "output_type": "stream",
     "text": [
      "Requirement already satisfied: tiktoken in /Users/vpankrat/Courses/LLMzoomcamp/venv/lib/python3.11/site-packages (0.9.0)\n",
      "Requirement already satisfied: regex>=2022.1.18 in /Users/vpankrat/Courses/LLMzoomcamp/venv/lib/python3.11/site-packages (from tiktoken) (2024.11.6)\n",
      "Requirement already satisfied: requests>=2.26.0 in /Users/vpankrat/Courses/LLMzoomcamp/venv/lib/python3.11/site-packages (from tiktoken) (2.32.3)\n",
      "Requirement already satisfied: charset-normalizer<4,>=2 in /Users/vpankrat/Courses/LLMzoomcamp/venv/lib/python3.11/site-packages (from requests>=2.26.0->tiktoken) (3.4.2)\n",
      "Requirement already satisfied: idna<4,>=2.5 in /Users/vpankrat/Courses/LLMzoomcamp/venv/lib/python3.11/site-packages (from requests>=2.26.0->tiktoken) (3.10)\n",
      "Requirement already satisfied: urllib3<3,>=1.21.1 in /Users/vpankrat/Courses/LLMzoomcamp/venv/lib/python3.11/site-packages (from requests>=2.26.0->tiktoken) (2.4.0)\n",
      "Requirement already satisfied: certifi>=2017.4.17 in /Users/vpankrat/Courses/LLMzoomcamp/venv/lib/python3.11/site-packages (from requests>=2.26.0->tiktoken) (2025.4.26)\n"
     ]
    }
   ],
   "source": [
    "!pip install tiktoken"
   ]
  },
  {
   "cell_type": "code",
   "execution_count": 38,
   "id": "d12510db-5726-4b9b-a962-3088ffac3371",
   "metadata": {},
   "outputs": [],
   "source": [
    "import tiktoken\n",
    "encoding = tiktoken.encoding_for_model(\"gpt-4o\")"
   ]
  },
  {
   "cell_type": "code",
   "execution_count": 39,
   "id": "2f08e149-9f33-4631-9d9b-d6ffcd558556",
   "metadata": {},
   "outputs": [
    {
     "data": {
      "text/plain": [
       "[63842,\n",
       " 261,\n",
       " 4165,\n",
       " 14029,\n",
       " 29186,\n",
       " 13,\n",
       " 30985,\n",
       " 290,\n",
       " 150339,\n",
       " 4122,\n",
       " 402,\n",
       " 290,\n",
       " 31810,\n",
       " 8099,\n",
       " 591,\n",
       " 290,\n",
       " 40251,\n",
       " 7862,\n",
       " 558,\n",
       " 8470,\n",
       " 1606,\n",
       " 290,\n",
       " 19719,\n",
       " 591,\n",
       " 290,\n",
       " 31810,\n",
       " 8099,\n",
       " 1261,\n",
       " 55959,\n",
       " 290,\n",
       " 150339,\n",
       " 364,\n",
       " 107036,\n",
       " 25,\n",
       " 3253,\n",
       " 621,\n",
       " 357,\n",
       " 15792,\n",
       " 261,\n",
       " 6348,\n",
       " 306,\n",
       " 261,\n",
       " 6788,\n",
       " 62275,\n",
       " 9282,\n",
       " 1715,\n",
       " 10637,\n",
       " 50738,\n",
       " 734,\n",
       " 48,\n",
       " 25,\n",
       " 3253,\n",
       " 621,\n",
       " 357,\n",
       " 15199,\n",
       " 261,\n",
       " 62275,\n",
       " 9282,\n",
       " 3901,\n",
       " 32,\n",
       " 25,\n",
       " 41281,\n",
       " 290,\n",
       " 9282,\n",
       " 3621,\n",
       " 306,\n",
       " 25383,\n",
       " 6766,\n",
       " 326,\n",
       " 151187,\n",
       " 290,\n",
       " 7251,\n",
       " 4859,\n",
       " 11,\n",
       " 813,\n",
       " 484,\n",
       " 480,\n",
       " 13217,\n",
       " 261,\n",
       " 38615,\n",
       " 6348,\n",
       " 558,\n",
       " 68923,\n",
       " 2461,\n",
       " 533,\n",
       " 278,\n",
       " 2230,\n",
       " 7962,\n",
       " 4859,\n",
       " 38615,\n",
       " 464,\n",
       " 3365,\n",
       " 523,\n",
       " 3335,\n",
       " 290,\n",
       " 9282,\n",
       " 382,\n",
       " 4279,\n",
       " 6788,\n",
       " 11,\n",
       " 15792,\n",
       " 261,\n",
       " 6348,\n",
       " 306,\n",
       " 290,\n",
       " 4857,\n",
       " 9282,\n",
       " 734,\n",
       " 68923,\n",
       " 10942,\n",
       " 350,\n",
       " 6555,\n",
       " 290,\n",
       " 9282,\n",
       " 26240,\n",
       " 446,\n",
       " 68923,\n",
       " 25398,\n",
       " 533,\n",
       " 278,\n",
       " 464,\n",
       " 6896,\n",
       " 26240,\n",
       " 29,\n",
       " 38615,\n",
       " 198,\n",
       " 6103,\n",
       " 277,\n",
       " 10732,\n",
       " 391,\n",
       " 79771,\n",
       " 1029,\n",
       " 48,\n",
       " 25,\n",
       " 3253,\n",
       " 621,\n",
       " 357,\n",
       " 5150,\n",
       " 6291,\n",
       " 591,\n",
       " 922,\n",
       " 2698,\n",
       " 7342,\n",
       " 316,\n",
       " 62275,\n",
       " 9282,\n",
       " 3901,\n",
       " 32,\n",
       " 25,\n",
       " 1608,\n",
       " 665,\n",
       " 5150,\n",
       " 6291,\n",
       " 591,\n",
       " 634,\n",
       " 2698,\n",
       " 7342,\n",
       " 1511,\n",
       " 261,\n",
       " 91238,\n",
       " 9282,\n",
       " 2360,\n",
       " 290,\n",
       " 62275,\n",
       " 27776,\n",
       " 6348,\n",
       " 13,\n",
       " 44257,\n",
       " 1495,\n",
       " 316,\n",
       " 621,\n",
       " 480,\n",
       " 734,\n",
       " 1385,\n",
       " 5150,\n",
       " 261,\n",
       " 1974,\n",
       " 503,\n",
       " 12552,\n",
       " 591,\n",
       " 634,\n",
       " 2698,\n",
       " 7342,\n",
       " 1511,\n",
       " 261,\n",
       " 6788,\n",
       " 91238,\n",
       " 9282,\n",
       " 11,\n",
       " 481,\n",
       " 665,\n",
       " 1199,\n",
       " 290,\n",
       " 2700,\n",
       " 68923,\n",
       " 27776,\n",
       " 6348,\n",
       " 62102,\n",
       " 623,\n",
       " 9439,\n",
       " 45440,\n",
       " 382,\n",
       " 472,\n",
       " 18183,\n",
       " 734,\n",
       " 68923,\n",
       " 27776,\n",
       " 820,\n",
       " 4189,\n",
       " 72231,\n",
       " 52214,\n",
       " 51766,\n",
       " 15400,\n",
       " 35850,\n",
       " 9282,\n",
       " 1537,\n",
       " 27975,\n",
       " 4189,\n",
       " 26985,\n",
       " 190543,\n",
       " 198,\n",
       " 106096,\n",
       " 437,\n",
       " 507,\n",
       " 70737,\n",
       " 15241,\n",
       " 3048,\n",
       " 279,\n",
       " 48,\n",
       " 25,\n",
       " 3253,\n",
       " 621,\n",
       " 357,\n",
       " 5150,\n",
       " 6291,\n",
       " 591,\n",
       " 261,\n",
       " 2647,\n",
       " 15610,\n",
       " 1511,\n",
       " 62275,\n",
       " 9282,\n",
       " 802,\n",
       " 4113,\n",
       " 12552,\n",
       " 3901,\n",
       " 32,\n",
       " 25,\n",
       " 1608,\n",
       " 665,\n",
       " 5150,\n",
       " 6291,\n",
       " 591,\n",
       " 634,\n",
       " 2698,\n",
       " 7342,\n",
       " 1511,\n",
       " 261,\n",
       " 91238,\n",
       " 9282,\n",
       " 2360,\n",
       " 290,\n",
       " 62275,\n",
       " 27776,\n",
       " 6348,\n",
       " 13,\n",
       " 44257,\n",
       " 1495,\n",
       " 316,\n",
       " 621,\n",
       " 480,\n",
       " 734,\n",
       " 637,\n",
       " 290,\n",
       " 91238,\n",
       " 2318,\n",
       " 11,\n",
       " 481,\n",
       " 665,\n",
       " 3587,\n",
       " 290,\n",
       " 15610,\n",
       " 15683,\n",
       " 290,\n",
       " 6291,\n",
       " 484,\n",
       " 481,\n",
       " 1682,\n",
       " 316,\n",
       " 5150,\n",
       " 1072,\n",
       " 13,\n",
       " 623,\n",
       " 9439,\n",
       " 45440,\n",
       " 382,\n",
       " 472,\n",
       " 18183,\n",
       " 734,\n",
       " 128701,\n",
       " 9129,\n",
       " 7205,\n",
       " 8138,\n",
       " 21369,\n",
       " 17311,\n",
       " 672,\n",
       " 392,\n",
       " 13123,\n",
       " 22739,\n",
       " 9320,\n",
       " 10928,\n",
       " 69422,\n",
       " 672,\n",
       " 9633,\n",
       " 2601,\n",
       " 14973,\n",
       " 22713,\n",
       " 167296,\n",
       " 30463,\n",
       " 499,\n",
       " 137058,\n",
       " 22064]"
      ]
     },
     "execution_count": 39,
     "metadata": {},
     "output_type": "execute_result"
    }
   ],
   "source": [
    "tokens = encoding.encode(prompt)\n",
    "tokens"
   ]
  },
  {
   "cell_type": "code",
   "execution_count": 40,
   "id": "dcf6c598-beac-42ea-8f18-794d869a1384",
   "metadata": {},
   "outputs": [
    {
     "data": {
      "text/plain": [
       "b'TEXT'"
      ]
     },
     "execution_count": 40,
     "metadata": {},
     "output_type": "execute_result"
    }
   ],
   "source": [
    "encoding.decode_single_token_bytes(50738)"
   ]
  },
  {
   "cell_type": "code",
   "execution_count": 41,
   "id": "9bbf4864-e1c7-42e7-99a5-b66801d395e3",
   "metadata": {},
   "outputs": [
    {
     "data": {
      "text/plain": [
       "322"
      ]
     },
     "execution_count": 41,
     "metadata": {},
     "output_type": "execute_result"
    }
   ],
   "source": [
    "len(tokens)"
   ]
  },
  {
   "cell_type": "markdown",
   "id": "d5c0a1ce-6415-4527-93f0-8294a033e990",
   "metadata": {},
   "source": [
    "# Bonus: generating the answer (ungraded)"
   ]
  },
  {
   "cell_type": "code",
   "execution_count": 42,
   "id": "f6d9d70d-da9d-4f60-bc0b-65eb17186831",
   "metadata": {},
   "outputs": [],
   "source": [
    "import os\n",
    "import yaml\n",
    "from openai import AzureOpenAI"
   ]
  },
  {
   "cell_type": "code",
   "execution_count": 43,
   "id": "061fe238-2dae-4c5f-977a-daba4e66996d",
   "metadata": {},
   "outputs": [],
   "source": [
    "from dataclasses import dataclass\n",
    "\n",
    "@dataclass\n",
    "class LLMServiceConfig:\n",
    "    host: str\n",
    "    api_key: str\n",
    "    api_version: str\n",
    "    model: str\n",
    "\n",
    "with open(\"../OPENAI_API_KEY.yaml\") as f:\n",
    "    details = yaml.safe_load(f)[\"Glossary Terms Extraction Service\"]\n",
    "    \n",
    "service_config = LLMServiceConfig(\n",
    "    host=f\"{details['protocol']}://{details['host']}\",\n",
    "    api_key=details['api_key'],\n",
    "    api_version=details['api_version'],\n",
    "    model=details['model']\n",
    ")\n",
    "client = AzureOpenAI(\n",
    "    api_version=service_config.api_version,\n",
    "    azure_endpoint=service_config.host,\n",
    "    api_key=service_config.api_key\n",
    ")"
   ]
  },
  {
   "cell_type": "code",
   "execution_count": 44,
   "id": "218486b0-9bcc-4a77-8590-a48df6932dc7",
   "metadata": {},
   "outputs": [],
   "source": [
    "response = client.chat.completions.create(\n",
    "    model=service_config.model,\n",
    "    messages=[\n",
    "        {'role': 'user', 'content': prompt}\n",
    "    ]\n",
    ")"
   ]
  },
  {
   "cell_type": "code",
   "execution_count": 45,
   "id": "fc780df1-a4f5-4908-aadb-4e6d23242966",
   "metadata": {},
   "outputs": [
    {
     "name": "stdout",
     "output_type": "stream",
     "text": [
      "To execute a command in a running Docker container, you can use the `docker exec` command. Here's the procedure:\n",
      "\n",
      "1. First, find the `container-id` of the running container by using:\n",
      "   ```\n",
      "   docker ps\n",
      "   ```\n",
      "\n",
      "2. Once you have the `container-id`, execute a command in the specific container using:\n",
      "   ```\n",
      "   docker exec -it <container-id> bash\n",
      "   ```\n",
      "\n",
      "This will launch an interactive bash session within the running container.\n"
     ]
    }
   ],
   "source": [
    "print(response.choices[0].message.content)"
   ]
  },
  {
   "cell_type": "markdown",
   "id": "bbe7fcd0-9e49-4d00-ab45-c96756fd95e1",
   "metadata": {},
   "source": [
    "# Bonus: calculating the costs (ungraded)"
   ]
  },
  {
   "cell_type": "code",
   "execution_count": 46,
   "id": "0f09f210-6f35-43f6-816c-dab2b5625760",
   "metadata": {},
   "outputs": [
    {
     "data": {
      "text/plain": [
       "0.0045"
      ]
     },
     "execution_count": 46,
     "metadata": {},
     "output_type": "execute_result"
    }
   ],
   "source": [
    "one_req_price = (150/1000 * 0.005 + 250/1000 * 0.015) \n",
    "one_req_price"
   ]
  },
  {
   "cell_type": "code",
   "execution_count": 47,
   "id": "df61311e-b909-4ac9-8257-2c6abe1bd283",
   "metadata": {},
   "outputs": [
    {
     "data": {
      "text/plain": [
       "4.5"
      ]
     },
     "execution_count": 47,
     "metadata": {},
     "output_type": "execute_result"
    }
   ],
   "source": [
    "thousand_req_price = one_req_price * 1000\n",
    "thousand_req_price"
   ]
  },
  {
   "cell_type": "code",
   "execution_count": null,
   "id": "5014305b-88db-48fc-8815-55ba59bd315c",
   "metadata": {},
   "outputs": [],
   "source": []
  }
 ],
 "metadata": {
  "kernelspec": {
   "display_name": "LLMzoomcamp2",
   "language": "python",
   "name": "llmzoomcamp2"
  },
  "language_info": {
   "codemirror_mode": {
    "name": "ipython",
    "version": 3
   },
   "file_extension": ".py",
   "mimetype": "text/x-python",
   "name": "python",
   "nbconvert_exporter": "python",
   "pygments_lexer": "ipython3",
   "version": "3.11.9"
  }
 },
 "nbformat": 4,
 "nbformat_minor": 5
}
