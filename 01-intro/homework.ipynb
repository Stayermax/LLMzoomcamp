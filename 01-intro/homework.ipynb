{
 "cells": [
  {
   "cell_type": "code",
   "execution_count": 12,
   "id": "b559d471-4316-4886-90b7-908324404bc9",
   "metadata": {},
   "outputs": [],
   "source": [
    "import os\n",
    "import yaml\n",
    "from openai import AzureOpenAI"
   ]
  },
  {
   "cell_type": "code",
   "execution_count": 16,
   "id": "061fe238-2dae-4c5f-977a-daba4e66996d",
   "metadata": {},
   "outputs": [],
   "source": [
    "from dataclasses import dataclass\n",
    "\n",
    "@dataclass\n",
    "class LLMServiceConfig:\n",
    "    host: str\n",
    "    api_key: str\n",
    "    api_version: str\n",
    "    model: str\n",
    "\n",
    "with open(\"../OPENAI_API_KEY.yaml\") as f:\n",
    "    details = yaml.safe_load(f)[\"Glossary Terms Extraction Service\"]\n",
    "    \n",
    "service_config = LLMServiceConfig(\n",
    "    host=f\"{details['protocol']}://{details['host']}\",\n",
    "    api_key=details['api_key'],\n",
    "    api_version=details['api_version'],\n",
    "    model=details['model']\n",
    ")\n",
    "client = AzureOpenAI(\n",
    "    api_version=service_config.api_version,\n",
    "    azure_endpoint=service_config.host,\n",
    "    api_key=service_config.api_key\n",
    ")"
   ]
  },
  {
   "cell_type": "code",
   "execution_count": 22,
   "id": "218486b0-9bcc-4a77-8590-a48df6932dc7",
   "metadata": {},
   "outputs": [],
   "source": [
    "response = client.chat.completions.create(\n",
    "    model=service_config.model,\n",
    "    messages=[\n",
    "        {'role': 'user', 'content': \"Is it too late to join the course?\"}\n",
    "    ]\n",
    ")"
   ]
  },
  {
   "cell_type": "code",
   "execution_count": 23,
   "id": "fc780df1-a4f5-4908-aadb-4e6d23242966",
   "metadata": {},
   "outputs": [
    {
     "data": {
      "text/plain": [
       "'Could you provide a bit more context? Are you referring to a specific course or program? The timing usually depends on the enrollment deadlines or whether late registration is possible for that particular course. Let me know, and I’ll do my best to assist you!'"
      ]
     },
     "execution_count": 23,
     "metadata": {},
     "output_type": "execute_result"
    }
   ],
   "source": [
    "response.choices[0].message.content "
   ]
  },
  {
   "cell_type": "code",
   "execution_count": null,
   "id": "24d13eb9-a1ee-4d41-8ef1-9563546a4b5d",
   "metadata": {},
   "outputs": [],
   "source": []
  }
 ],
 "metadata": {
  "kernelspec": {
   "display_name": "LLMzoomcamp2",
   "language": "python",
   "name": "llmzoomcamp2"
  },
  "language_info": {
   "codemirror_mode": {
    "name": "ipython",
    "version": 3
   },
   "file_extension": ".py",
   "mimetype": "text/x-python",
   "name": "python",
   "nbconvert_exporter": "python",
   "pygments_lexer": "ipython3",
   "version": "3.11.9"
  }
 },
 "nbformat": 4,
 "nbformat_minor": 5
}
