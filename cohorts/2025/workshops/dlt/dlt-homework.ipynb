{
 "cells": [
  {
   "cell_type": "markdown",
   "id": "f2ef67fb-6312-41cf-8690-545d2176dbad",
   "metadata": {},
   "source": [
    "# Defining LLM"
   ]
  },
  {
   "cell_type": "code",
   "execution_count": 14,
   "id": "916463d3-2e08-418b-abb8-471e17db7793",
   "metadata": {},
   "outputs": [],
   "source": [
    "from dataclasses import dataclass\n",
    "\n",
    "@dataclass\n",
    "class LLMServiceConfig:\n",
    "    host: str\n",
    "    api_key: str\n",
    "    api_version: str\n",
    "    model: str\n",
    "\n",
    "with open(\"../../../../OPENAI_API_KEY.yaml\") as f:\n",
    "    details = yaml.safe_load(f)[\"Glossary Terms Extraction Service\"]\n",
    "    \n",
    "service_config = LLMServiceConfig(\n",
    "    host=f\"{details['protocol']}://{details['host']}\",\n",
    "    api_key=details['api_key'],\n",
    "    api_version=details['api_version'],\n",
    "    model=details['model']\n",
    ")\n",
    "client = AzureOpenAI(\n",
    "    api_version=service_config.api_version,\n",
    "    azure_endpoint=service_config.host,\n",
    "    api_key=service_config.api_key\n",
    ")"
   ]
  },
  {
   "cell_type": "markdown",
   "id": "616196ea-8db5-4dd8-ad4a-208811a612fb",
   "metadata": {},
   "source": [
    "# DLT"
   ]
  },
  {
   "cell_type": "markdown",
   "id": "fb0f2956-8413-43a2-b11e-507ddc1d2935",
   "metadata": {},
   "source": [
    "## Q1"
   ]
  },
  {
   "cell_type": "code",
   "execution_count": 1,
   "id": "34ae2d37-2e0a-41b1-ae67-64e342be31fe",
   "metadata": {},
   "outputs": [],
   "source": [
    "!pip install -q \"dlt[qdrant]\" \"qdrant-client[fastembed]\""
   ]
  },
  {
   "cell_type": "code",
   "execution_count": 2,
   "id": "ee98807d-65be-4c6c-b373-9f0806eea27a",
   "metadata": {},
   "outputs": [
    {
     "name": "stdout",
     "output_type": "stream",
     "text": [
      "\u001b[39mdlt 1.12.3\u001b[0m\n"
     ]
    }
   ],
   "source": [
    "!dlt --version"
   ]
  },
  {
   "cell_type": "markdown",
   "id": "54d93ba1-57b1-4a29-83e0-44cf2203befa",
   "metadata": {},
   "source": [
    "## Q2"
   ]
  },
  {
   "cell_type": "code",
   "execution_count": 13,
   "id": "32902f28-969b-4105-bcb4-a138e987ca15",
   "metadata": {},
   "outputs": [],
   "source": [
    "import dlt\n",
    "import os\n",
    "import yaml\n",
    "from openai import AzureOpenAI\n",
    "import requests"
   ]
  },
  {
   "cell_type": "code",
   "execution_count": 7,
   "id": "0108d101-9b98-4236-a62b-0a9a3dd7da7c",
   "metadata": {},
   "outputs": [],
   "source": [
    "@dlt.resource\n",
    "def zoomcamp_data():\n",
    "    docs_url = 'https://github.com/alexeygrigorev/llm-rag-workshop/raw/main/notebooks/documents.json'\n",
    "    docs_response = requests.get(docs_url)\n",
    "    documents_raw = docs_response.json()\n",
    "\n",
    "    for course in documents_raw:\n",
    "        course_name = course['course']\n",
    "\n",
    "        for doc in course['documents']:\n",
    "            doc['course'] = course_name\n",
    "            yield doc"
   ]
  },
  {
   "cell_type": "code",
   "execution_count": 15,
   "id": "260325ee-5c6c-4b62-b879-de651aca66a8",
   "metadata": {},
   "outputs": [],
   "source": [
    "from dlt.destinations import qdrant\n",
    "\n",
    "qdrant_destination = qdrant(\n",
    "  qd_path=\"db.qdrant\", \n",
    ")"
   ]
  },
  {
   "cell_type": "code",
   "execution_count": 16,
   "id": "7ad16b64-3dec-4579-a065-aaab3f9e784e",
   "metadata": {},
   "outputs": [
    {
     "name": "stderr",
     "output_type": "stream",
     "text": [
      "/Users/vpankrat/Courses/LLMzoomcamp/venv/lib/python3.11/site-packages/tqdm/auto.py:21: TqdmWarning: IProgress not found. Please update jupyter and ipywidgets. See https://ipywidgets.readthedocs.io/en/stable/user_install.html\n",
      "  from .autonotebook import tqdm as notebook_tqdm\n",
      "Fetching 5 files: 100%|█████████████████████████████████████████████████████████████████████████████████████████████████████████████████| 5/5 [00:03<00:00,  1.50it/s]\n"
     ]
    },
    {
     "name": "stdout",
     "output_type": "stream",
     "text": [
      "Run started at 2025-07-07 13:28:55.396693+00:00 and COMPLETED in 12.10 seconds with 4 steps.\n",
      "Step extract COMPLETED in 2.68 seconds.\n",
      "\n",
      "Load package 1751894941.367451 is EXTRACTED and NOT YET LOADED to the destination and contains no failed jobs\n",
      "\n",
      "Step normalize COMPLETED in 0.10 seconds.\n",
      "Normalized data for the following tables:\n",
      "- zoomcamp_data: 948 row(s)\n",
      "- _dlt_pipeline_state: 1 row(s)\n",
      "\n",
      "Load package 1751894941.367451 is NORMALIZED and NOT YET LOADED to the destination and contains no failed jobs\n",
      "\n",
      "Step load COMPLETED in 3.35 seconds.\n",
      "Pipeline zoomcamp_pipeline load step completed in 3.34 seconds\n",
      "1 load package(s) were loaded to destination qdrant and into dataset zoomcamp_tagged_data\n",
      "The qdrant destination used /Users/vpankrat/Courses/LLMzoomcamp/cohorts/2025/workshops/dlt/db.qdrant location to store data\n",
      "Load package 1751894941.367451 is LOADED and contains no failed jobs\n",
      "\n",
      "Step run COMPLETED in 12.09 seconds.\n",
      "Pipeline zoomcamp_pipeline load step completed in 3.34 seconds\n",
      "1 load package(s) were loaded to destination qdrant and into dataset zoomcamp_tagged_data\n",
      "The qdrant destination used /Users/vpankrat/Courses/LLMzoomcamp/cohorts/2025/workshops/dlt/db.qdrant location to store data\n",
      "Load package 1751894941.367451 is LOADED and contains no failed jobs\n"
     ]
    }
   ],
   "source": [
    "pipeline = dlt.pipeline(\n",
    "    pipeline_name=\"zoomcamp_pipeline\",\n",
    "    destination=qdrant_destination,\n",
    "    dataset_name=\"zoomcamp_tagged_data\"\n",
    "\n",
    ")\n",
    "load_info = pipeline.run(zoomcamp_data())\n",
    "print(pipeline.last_trace)"
   ]
  },
  {
   "cell_type": "markdown",
   "id": "15f4b858-5b19-4f47-b65a-fe74090de179",
   "metadata": {},
   "source": [
    "**Number of inserted rows: 948**"
   ]
  },
  {
   "cell_type": "markdown",
   "id": "a23b5e6c-3739-491b-b508-b27a7b4325b1",
   "metadata": {},
   "source": [
    "## Q3"
   ]
  },
  {
   "cell_type": "code",
   "execution_count": 18,
   "id": "358b7080-7848-4150-a330-3cde87725a37",
   "metadata": {},
   "outputs": [],
   "source": [
    "import json"
   ]
  },
  {
   "cell_type": "code",
   "execution_count": 23,
   "id": "c64b2b41-bbf1-4b7d-a990-112bf81d8477",
   "metadata": {},
   "outputs": [
    {
     "name": "stdout",
     "output_type": "stream",
     "text": [
      "/Users/vpankrat/Courses/LLMzoomcamp/cohorts/2025/workshops/dlt\n"
     ]
    }
   ],
   "source": [
    "print(os.getcwd())"
   ]
  },
  {
   "cell_type": "code",
   "execution_count": 29,
   "id": "a1ddda1c-975d-43b2-9c36-5279ffc833ff",
   "metadata": {},
   "outputs": [
    {
     "name": "stdout",
     "output_type": "stream",
     "text": [
      "{\n",
      "    \"collections\": {\n",
      "        \"zoomcamp_tagged_data\": {\n",
      "            \"vectors\": {\n",
      "                \"fast-bge-small-en\": {\n",
      "                    \"size\": 384,\n",
      "                    \"distance\": \"Cosine\",\n",
      "                    \"hnsw_config\": null,\n",
      "                    \"quantization_config\": null,\n",
      "                    \"on_disk\": null,\n",
      "                    \"datatype\": null,\n",
      "                    \"multivector_config\": null\n",
      "                }\n",
      "            },\n",
      "            \"shard_number\": null,\n",
      "            \"sharding_method\": null,\n",
      "            \"replication_factor\": null,\n",
      "            \"write_consistency_factor\": null,\n",
      "            \"on_disk_payload\": null,\n",
      "            \"hnsw_config\": null,\n",
      "            \"wal_config\": null,\n",
      "            \"optimizers_config\": null,\n",
      "            \"init_from\": null,\n",
      "            \"quantization_config\": null,\n",
      "            \"sparse_vectors\": null,\n",
      "            \"strict_mode_config\": null\n",
      "        },\n",
      "        \"zoomcamp_tagged_data__dlt_loads\": {\n",
      "            \"vectors\": {\n",
      "                \"fast-bge-small-en\": {\n",
      "                    \"size\": 384,\n",
      "                    \"distance\": \"Cosine\",\n",
      "                    \"hnsw_config\": null,\n",
      "                    \"quantization_config\": null,\n",
      "                    \"on_disk\": null,\n",
      "                    \"datatype\": null,\n",
      "                    \"multivector_config\": null\n",
      "                }\n",
      "            },\n",
      "            \"shard_number\": null,\n",
      "            \"sharding_method\": null,\n",
      "            \"replication_factor\": null,\n",
      "            \"write_consistency_factor\": null,\n",
      "            \"on_disk_payload\": null,\n",
      "            \"hnsw_config\": null,\n",
      "            \"wal_config\": null,\n",
      "            \"optimizers_config\": null,\n",
      "            \"init_from\": null,\n",
      "            \"quantization_config\": null,\n",
      "            \"sparse_vectors\": null,\n",
      "            \"strict_mode_config\": null\n",
      "        },\n",
      "        \"zoomcamp_tagged_data__dlt_pipeline_state\": {\n",
      "            \"vectors\": {\n",
      "                \"fast-bge-small-en\": {\n",
      "                    \"size\": 384,\n",
      "                    \"distance\": \"Cosine\",\n",
      "                    \"hnsw_config\": null,\n",
      "                    \"quantization_config\": null,\n",
      "                    \"on_disk\": null,\n",
      "                    \"datatype\": null,\n",
      "                    \"multivector_config\": null\n",
      "                }\n",
      "            },\n",
      "            \"shard_number\": null,\n",
      "            \"sharding_method\": null,\n",
      "            \"replication_factor\": null,\n",
      "            \"write_consistency_factor\": null,\n",
      "            \"on_disk_payload\": null,\n",
      "            \"hnsw_config\": null,\n",
      "            \"wal_config\": null,\n",
      "            \"optimizers_config\": null,\n",
      "            \"init_from\": null,\n",
      "            \"quantization_config\": null,\n",
      "            \"sparse_vectors\": null,\n",
      "            \"strict_mode_config\": null\n",
      "        },\n",
      "        \"zoomcamp_tagged_data__dlt_version\": {\n",
      "            \"vectors\": {\n",
      "                \"fast-bge-small-en\": {\n",
      "                    \"size\": 384,\n",
      "                    \"distance\": \"Cosine\",\n",
      "                    \"hnsw_config\": null,\n",
      "                    \"quantization_config\": null,\n",
      "                    \"on_disk\": null,\n",
      "                    \"datatype\": null,\n",
      "                    \"multivector_config\": null\n",
      "                }\n",
      "            },\n",
      "            \"shard_number\": null,\n",
      "            \"sharding_method\": null,\n",
      "            \"replication_factor\": null,\n",
      "            \"write_consistency_factor\": null,\n",
      "            \"on_disk_payload\": null,\n",
      "            \"hnsw_config\": null,\n",
      "            \"wal_config\": null,\n",
      "            \"optimizers_config\": null,\n",
      "            \"init_from\": null,\n",
      "            \"quantization_config\": null,\n",
      "            \"sparse_vectors\": null,\n",
      "            \"strict_mode_config\": null\n",
      "        },\n",
      "        \"zoomcamp_tagged_data_zoomcamp_data\": {\n",
      "            \"vectors\": {\n",
      "                \"fast-bge-small-en\": {\n",
      "                    \"size\": 384,\n",
      "                    \"distance\": \"Cosine\",\n",
      "                    \"hnsw_config\": null,\n",
      "                    \"quantization_config\": null,\n",
      "                    \"on_disk\": null,\n",
      "                    \"datatype\": null,\n",
      "                    \"multivector_config\": null\n",
      "                }\n",
      "            },\n",
      "            \"shard_number\": null,\n",
      "            \"sharding_method\": null,\n",
      "            \"replication_factor\": null,\n",
      "            \"write_consistency_factor\": null,\n",
      "            \"on_disk_payload\": null,\n",
      "            \"hnsw_config\": null,\n",
      "            \"wal_config\": null,\n",
      "            \"optimizers_config\": null,\n",
      "            \"init_from\": null,\n",
      "            \"quantization_config\": null,\n",
      "            \"sparse_vectors\": null,\n",
      "            \"strict_mode_config\": null\n",
      "        }\n",
      "    },\n",
      "    \"aliases\": {}\n",
      "}\n"
     ]
    }
   ],
   "source": [
    "meta_path = 'db.qdrant/meta.json'\n",
    "with open(meta_path) as fp:\n",
    "    data = json.load(fp)\n",
    "print(json.dumps(data, indent=4))"
   ]
  },
  {
   "cell_type": "markdown",
   "id": "04f82f28-d5a5-4f27-8643-d856931b8dbd",
   "metadata": {},
   "source": [
    "**Model used: fast-bge-small-en**"
   ]
  },
  {
   "cell_type": "code",
   "execution_count": null,
   "id": "a241f6ed-3be9-4557-b158-85b27e73efa9",
   "metadata": {},
   "outputs": [],
   "source": []
  }
 ],
 "metadata": {
  "kernelspec": {
   "display_name": "LLMzoomcamp2",
   "language": "python",
   "name": "llmzoomcamp2"
  },
  "language_info": {
   "codemirror_mode": {
    "name": "ipython",
    "version": 3
   },
   "file_extension": ".py",
   "mimetype": "text/x-python",
   "name": "python",
   "nbconvert_exporter": "python",
   "pygments_lexer": "ipython3",
   "version": "3.11.9"
  }
 },
 "nbformat": 4,
 "nbformat_minor": 5
}
